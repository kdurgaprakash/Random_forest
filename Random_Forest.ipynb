{
 "cells": [
  {
   "cell_type": "code",
   "execution_count": 168,
   "id": "56af4464",
   "metadata": {},
   "outputs": [],
   "source": [
    "import pandas as pd\n",
    "from sklearn.model_selection import train_test_split\n",
    "\n",
    "from scipy.io import arff\n",
    "from sklearn.preprocessing import LabelEncoder\n",
    "\n",
    "from sklearn.ensemble import RandomForestClassifier\n",
    "\n",
    "from sklearn import metrics\n",
    "from sklearn.metrics import f1_score\n",
    "\n"
   ]
  },
  {
   "cell_type": "code",
   "execution_count": 169,
   "id": "613348c7",
   "metadata": {},
   "outputs": [],
   "source": [
    "#Preprocessing and loading data by filling in empty spaces\n",
    "file = arff.loadarff('chronic_kidney_disease_full.arff')\n",
    "df = pd.DataFrame(file[0])\n",
    "\n",
    "for i in df.columns:\n",
    "        if df[i].dtype !=  'float64':\n",
    "            lab = LabelEncoder()\n",
    "            lab.fit(df[i])\n",
    "            df[i] = lab.transform(df[i])\n",
    "\n",
    "#Fill empty values of dataset\n",
    "df.fillna(method = 'ffill', inplace = True)\n",
    "df.fillna(method = 'bfill', inplace = True)\n",
    "\n",
    "\n",
    "X = df.iloc[:, :-1].values\n",
    "Y = df['class'].values"
   ]
  },
  {
   "cell_type": "code",
   "execution_count": 170,
   "id": "f70cf6dc",
   "metadata": {},
   "outputs": [],
   "source": [
    "# Dividing the dataset for training and testing such that 20 % is used for testing and 80% is used for training and random_state is set as 33 to shuffle the data\n",
    "x_train, x_test, y_train, y_test = train_test_split(X, Y, test_size=0.2,random_state = 33)"
   ]
  },
  {
   "cell_type": "code",
   "execution_count": 171,
   "id": "114726a2",
   "metadata": {},
   "outputs": [
    {
     "name": "stdout",
     "output_type": "stream",
     "text": [
      "[[60. 60.  3. ...  1.  1.  1.]\n",
      " [74. 60.  3. ...  1.  1.  1.]\n",
      " [56. 70.  4. ...  1.  1.  1.]\n",
      " ...\n",
      " [64. 70.  1. ...  1.  1.  1.]\n",
      " [36. 80.  4. ...  1.  1.  1.]\n",
      " [61. 80.  2. ...  2.  2.  2.]]\n",
      "[[34. 90.  2. ...  1.  1.  1.]\n",
      " [70. 60.  5. ...  1.  1.  1.]\n",
      " [70. 80.  3. ...  1.  1.  1.]\n",
      " ...\n",
      " [50. 80.  3. ...  1.  1.  1.]\n",
      " [62. 80.  3. ...  1.  1.  1.]\n",
      " [30. 80.  3. ...  1.  1.  1.]]\n"
     ]
    }
   ],
   "source": [
    "# Printing the training and testing data for reference\n",
    "\n",
    "print(x_train)\n",
    "print(x_test)"
   ]
  },
  {
   "cell_type": "code",
   "execution_count": 172,
   "id": "30da5b73",
   "metadata": {},
   "outputs": [],
   "source": [
    "#Create a random forest Classifier wiht default parameters\n",
    "forest_model = RandomForestClassifier()"
   ]
  },
  {
   "cell_type": "code",
   "execution_count": 173,
   "id": "d8dd71d6",
   "metadata": {},
   "outputs": [
    {
     "data": {
      "text/plain": [
       "RandomForestClassifier()"
      ]
     },
     "execution_count": 173,
     "metadata": {},
     "output_type": "execute_result"
    }
   ],
   "source": [
    "#Train the model using the training sets\n",
    "forest_model.fit(x_train, y_train)"
   ]
  },
  {
   "cell_type": "code",
   "execution_count": 174,
   "id": "a841e53d",
   "metadata": {},
   "outputs": [],
   "source": [
    "# Predict the response for test dataset\n",
    "\n",
    "y_test_pred = forest_model.predict(x_test)\n",
    "y_train_pred = forest_model.predict(x_train)\n"
   ]
  },
  {
   "cell_type": "code",
   "execution_count": 175,
   "id": "531e2a19",
   "metadata": {},
   "outputs": [
    {
     "name": "stdout",
     "output_type": "stream",
     "text": [
      "f-measure of test set: 1.0\n",
      "f-measure of train set: 1.0\n"
     ]
    }
   ],
   "source": [
    "# Print F measure of the algorithm's performance on the training and test sets\n",
    "\n",
    "#print(\"Accuracy:\",metrics.accuracy_score(y_test, y_pred))\n",
    "\n",
    "print(\"f-measure of test set:\", f1_score(y_test, y_test_pred))\n",
    "print(\"f-measure of train set:\", f1_score(y_train, y_train_pred))\n"
   ]
  }
 ],
 "metadata": {
  "kernelspec": {
   "display_name": "Python 3",
   "language": "python",
   "name": "python3"
  },
  "language_info": {
   "codemirror_mode": {
    "name": "ipython",
    "version": 3
   },
   "file_extension": ".py",
   "mimetype": "text/x-python",
   "name": "python",
   "nbconvert_exporter": "python",
   "pygments_lexer": "ipython3",
   "version": "3.8.8"
  }
 },
 "nbformat": 4,
 "nbformat_minor": 5
}
